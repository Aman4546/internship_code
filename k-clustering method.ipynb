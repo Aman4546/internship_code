{
 "cells": [
  {
   "cell_type": "code",
   "execution_count": null,
   "id": "cf354be8-5b82-4d2a-a268-cbe86eb525ae",
   "metadata": {},
   "outputs": [],
   "source": [
    "import pandas as pd\n",
    "from sklearn.preprocessing import StandardScaler\n",
    "from sklearn.cluster import KMeans\n",
    "import matplotlib.pyplot as plt\n",
    "\n",
    "# Step 1: Load Excel data\n",
    "file_path = 'your_excel_file.xlsx'  # <-- Replace with your file name\n",
    "df = pd.read_excel(file_path)\n",
    "\n",
    "# Step 2: Extract voltage and angle columns\n",
    "# Replace 'Voltage' and 'Angle' with the actual column names in your Excel file\n",
    "X = df[['Voltage', 'Angle']].dropna().values\n",
    "\n",
    "# Step 3: Normalize the data\n",
    "scaler = StandardScaler()\n",
    "X_scaled = scaler.fit_transform(X)\n",
    "\n",
    "# Step 4: Apply K-means clustering\n",
    "k = 3  # <-- You can change this based on how many clusters you want\n",
    "kmeans = KMeans(n_clusters=k, random_state=0)\n",
    "labels = kmeans.fit_predict(X_scaled)\n",
    "\n",
    "# Step 5: Add cluster labels to original DataFrame\n",
    "df = df.dropna(subset=['Voltage', 'Angle']).copy()\n",
    "df['Cluster'] = labels\n",
    "\n",
    "# Step 6: Estimate state (e.g., centroid) for each cluster\n",
    "cluster_centers = scaler.inverse_transform(kmeans.cluster_centers_)\n",
    "for i, center in enumerate(cluster_centers):\n",
    "    voltage, angle = center\n",
    "    print(f\"Cluster {i}: Estimated Voltage = {voltage:.3f}, Angle = {angle:.3f}\")\n",
    "\n",
    "# Step 7: (Optional) Plot clusters\n",
    "plt.scatter(X[:, 0], X[:, 1], c=labels, cmap='viridis')\n",
    "plt.xlabel('Voltage')\n",
    "plt.ylabel('Angle')\n",
    "plt.title('K-means Clustering of Voltage and Angle')\n",
    "plt.grid(True)\n",
    "plt.show()\n"
   ]
  }
 ],
 "metadata": {
  "kernelspec": {
   "display_name": "Python 3 (ipykernel)",
   "language": "python",
   "name": "python3"
  },
  "language_info": {
   "codemirror_mode": {
    "name": "ipython",
    "version": 3
   },
   "file_extension": ".py",
   "mimetype": "text/x-python",
   "name": "python",
   "nbconvert_exporter": "python",
   "pygments_lexer": "ipython3",
   "version": "3.12.7"
  }
 },
 "nbformat": 4,
 "nbformat_minor": 5
}
